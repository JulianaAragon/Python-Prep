{
 "cells": [
  {
   "cell_type": "markdown",
   "metadata": {},
   "source": [
    "1) Crear una función que reciba un número como parámetro y devuelva si True si es primo y False si no lo es"
   ]
  },
  {
   "cell_type": "code",
   "execution_count": 50,
   "metadata": {},
   "outputs": [],
   "source": [
    "def num_primo (numero):\n",
    "    status=False\n",
    "    if numero==0 or numero==1:\n",
    "        status=False\n",
    "    if numero==2:\n",
    "        status=True\n",
    "    \n",
    "    else:\n",
    "        for divisor in range(2,numero):\n",
    "            if numero%divisor==0:\n",
    "                status=False\n",
    "                break\n",
    "                \n",
    "            status=True\n",
    "    return(status)\n",
    "    "
   ]
  },
  {
   "cell_type": "markdown",
   "metadata": {},
   "source": [
    "2) Utilizando la función del punto 1, realizar otra función que reciba de parámetro una lista de números y devuelva sólo aquellos que son primos en otra lista"
   ]
  },
  {
   "cell_type": "code",
   "execution_count": 102,
   "metadata": {},
   "outputs": [],
   "source": [
    "def num_primo_lista (lista):\n",
    "    salida=[]\n",
    "    \n",
    "    for num in lista:\n",
    "        if num==0 or num==1:\n",
    "            continue\n",
    "        else: \n",
    "            for divisor in (range(2,num+1)):\n",
    "                if num==divisor:\n",
    "                    salida.append(num) \n",
    "                elif num%divisor==0:\n",
    "                    break      \n",
    "    return(salida)"
   ]
  },
  {
   "cell_type": "markdown",
   "metadata": {},
   "source": [
    "3) Crear una función que al recibir una lista de números, devuelva el que más se repite y cuántas veces lo hace. Si hay más de un \"más repetido\", que devuelva cualquiera"
   ]
  },
  {
   "cell_type": "code",
   "execution_count": 4,
   "metadata": {},
   "outputs": [
    {
     "data": {
      "text/plain": [
       "1"
      ]
     },
     "execution_count": 4,
     "metadata": {},
     "output_type": "execute_result"
    }
   ],
   "source": [
    "lista=[0,1,7,8,10,7,1,9,8,1,3,4,5,1,9,2,7,0,7,3]\n",
    "def num_repetidos (lista):\n",
    "    lista_sinrepetir=[]\n",
    "    for n in lista:\n",
    "        if n not in lista_sinrepetir:\n",
    "            lista_sinrepetir.append(n)\n",
    "    lista_sinrepetir.sort()\n",
    "    repeticiones=[]\n",
    "    for num in lista_sinrepetir:\n",
    "        i=0\n",
    "        contador=0\n",
    "        while i< len(lista):\n",
    "            if num==lista[i]:\n",
    "                contador+=1\n",
    "            i+=1\n",
    "\n",
    "        repeticiones.append([num,contador])\n",
    "    num,rep=max(repeticiones, key=lambda item:item[1])        \n",
    "    return(num)\n",
    "\n",
    "num_repetidos(lista)      \n",
    "        "
   ]
  },
  {
   "cell_type": "markdown",
   "metadata": {},
   "source": [
    "4) A la función del punto 3, agregar un parámetro más, que permita elegir si se requiere el menor o el mayor de los mas repetidos."
   ]
  },
  {
   "cell_type": "code",
   "execution_count": 6,
   "metadata": {},
   "outputs": [
    {
     "data": {
      "text/plain": [
       "1"
      ]
     },
     "execution_count": 6,
     "metadata": {},
     "output_type": "execute_result"
    }
   ],
   "source": [
    "\n",
    "def num_repetidos (lista,minomax):\n",
    "    lista_sinrepetir=[]\n",
    "    for n in lista:\n",
    "        if n not in lista_sinrepetir:\n",
    "            lista_sinrepetir.append(n)\n",
    "    if minomax=='min':\n",
    "        lista_sinrepetir.sort()\n",
    "    elif minomax=='max':\n",
    "        lista_sinrepetir.reverse()\n",
    "    repeticiones=[]\n",
    "    for num in lista_sinrepetir:\n",
    "        i=0\n",
    "        contador=0\n",
    "        while i< len(lista):\n",
    "            if num==lista[i]:\n",
    "                contador+=1\n",
    "            i+=1\n",
    "\n",
    "        repeticiones.append([num,contador])\n",
    "    num,rep=max(repeticiones, key=lambda item:item[1])        \n",
    "    return(num)\n",
    "        \n",
    "\n",
    "num_repetidos(lista,'min')\n",
    "\n"
   ]
  },
  {
   "cell_type": "markdown",
   "metadata": {},
   "source": [
    "5) Crear una función que convierta entre grados Celsius, Farenheit y Kelvin<br>\n",
    "Fórmula 1\t: (°C × 9/5) + 32 = °F<br>\n",
    "Fórmula 2\t: °C + 273.15 = °K<br>\n",
    "Debe recibir 3 parámetros: el valor, la medida de orígen y la medida de destino"
   ]
  },
  {
   "cell_type": "code",
   "execution_count": 231,
   "metadata": {},
   "outputs": [
    {
     "data": {
      "text/plain": [
       "272.0388888888889"
      ]
     },
     "execution_count": 231,
     "metadata": {},
     "output_type": "execute_result"
    }
   ],
   "source": [
    "def convert_grados (valor, med_entrada, med_salida):\n",
    "    if (med_entrada==med_salida):\n",
    "        salida=valor\n",
    "    elif (med_entrada=='Ce' and med_salida=='Fa'):\n",
    "        salida=valor*9/5 + 32\n",
    "    elif (med_entrada=='Ce' and med_salida=='Ke'):\n",
    "        salida=valor+273.15\n",
    "    elif (med_entrada=='Fa' and med_salida==\"Ce\"):\n",
    "        salida=(valor-32)*5/9\n",
    "    elif (med_entrada=='Ke' and med_salida=='Ce'):\n",
    "        salida= valor-273.15\n",
    "    elif (med_entrada=='Ke' and med_salida=='Fa'):\n",
    "        grados=convert_grados(valor,'Ke','Ce')\n",
    "        salida=convert_grados(grados,'Ce','Fa')\n",
    "    elif (med_entrada=='Fa' and med_salida=='Ke'):\n",
    "        grados=convert_grados(valor,'Fa','Ce')\n",
    "        salida=convert_grados(grados,'Ce','Ke')\n",
    "    return(salida)\n",
    "\n",
    "convert_grados(30,'Fa','Ke')\n",
    "\n",
    "    "
   ]
  },
  {
   "cell_type": "markdown",
   "metadata": {},
   "source": [
    "6) Iterando una lista con los tres valores posibles de temperatura que recibe la función del punto 5, hacer un print para cada combinación de los mismos:"
   ]
  },
  {
   "cell_type": "code",
   "execution_count": 232,
   "metadata": {},
   "outputs": [
    {
     "name": "stdout",
     "output_type": "stream",
     "text": [
      "1 grado Celcius a Celcius : 1\n",
      "1 grado Celcius a Kelvin : 274.15\n",
      "1 grado Celcius a Farenheit : 33.8\n",
      "1 grado Kelvin a Celcius : -272.15\n",
      "1 grado Kelvin a Kelvin : 1\n",
      "1 grado Kelvin a Farenheit : -457.87\n",
      "1 grado Farenheit a Celcius : -17.22222222222222\n",
      "1 grado Farenheit a Kelvin : 255.92777777777775\n",
      "1 grado Farenheit a Farenheit : 1\n"
     ]
    }
   ],
   "source": [
    "metricas = ['Celcius','Kelvin','Farenheit']\n",
    "metricas[0][0:1]\n",
    "for i in range(0,3):\n",
    "    for j in range(0,3):\n",
    "        print('1 grado', metricas[i], 'a', metricas[j],':', convert_grados(1, metricas[i][0:2], metricas[j][0:2]))"
   ]
  },
  {
   "cell_type": "markdown",
   "metadata": {},
   "source": [
    "7) Armar una función que devuelva el factorial de un número. Tener en cuenta que el usuario puede equivocarse y enviar de parámetro un número no entero o negativo"
   ]
  },
  {
   "cell_type": "code",
   "execution_count": 213,
   "metadata": {},
   "outputs": [
    {
     "data": {
      "text/plain": [
       "120"
      ]
     },
     "execution_count": 213,
     "metadata": {},
     "output_type": "execute_result"
    }
   ],
   "source": [
    "def factorial(num):\n",
    "    if (num<0 or type(num)==float):\n",
    "        salida='Número no entero o negativo'\n",
    "    elif num==0:\n",
    "        salida=1\n",
    "    else:\n",
    "        factor=1\n",
    "        for i in range(2,num+1):\n",
    "            factor*=i\n",
    "        salida=factor\n",
    "    \n",
    "    return(salida)\n",
    "\n",
    "factorial(5)\n"
   ]
  },
  {
   "cell_type": "code",
   "execution_count": 205,
   "metadata": {},
   "outputs": [
    {
     "data": {
      "text/plain": [
       "'Número no entero o negativo'"
      ]
     },
     "execution_count": 205,
     "metadata": {},
     "output_type": "execute_result"
    }
   ],
   "source": [
    "num=-3\n",
    "if (num<0 or type(num)==float):\n",
    "    salida='Número no entero o negativo'\n",
    "salida\n"
   ]
  },
  {
   "cell_type": "code",
   "execution_count": 230,
   "metadata": {},
   "outputs": [
    {
     "ename": "UnboundLocalError",
     "evalue": "local variable 'salida' referenced before assignment",
     "output_type": "error",
     "traceback": [
      "\u001b[1;31m---------------------------------------------------------------------------\u001b[0m",
      "\u001b[1;31mUnboundLocalError\u001b[0m                         Traceback (most recent call last)",
      "\u001b[1;32m<ipython-input-230-9eb75d7b975d>\u001b[0m in \u001b[0;36m<module>\u001b[1;34m\u001b[0m\n\u001b[0;32m      1\u001b[0m \u001b[0mmetricas\u001b[0m \u001b[1;33m=\u001b[0m \u001b[1;33m[\u001b[0m\u001b[1;34m'Celcius'\u001b[0m\u001b[1;33m,\u001b[0m\u001b[1;34m'Kelvin'\u001b[0m\u001b[1;33m,\u001b[0m\u001b[1;34m'Farenheit'\u001b[0m\u001b[1;33m]\u001b[0m\u001b[1;33m\u001b[0m\u001b[1;33m\u001b[0m\u001b[0m\n\u001b[1;32m----> 2\u001b[1;33m \u001b[0mconvert_grados\u001b[0m\u001b[1;33m(\u001b[0m\u001b[1;36m1\u001b[0m\u001b[1;33m,\u001b[0m \u001b[0mmetricas\u001b[0m\u001b[1;33m[\u001b[0m\u001b[1;36m0\u001b[0m\u001b[1;33m]\u001b[0m\u001b[1;33m[\u001b[0m\u001b[1;36m0\u001b[0m\u001b[1;33m:\u001b[0m\u001b[1;36m2\u001b[0m\u001b[1;33m]\u001b[0m\u001b[1;33m,\u001b[0m \u001b[0mmetricas\u001b[0m\u001b[1;33m[\u001b[0m\u001b[1;36m0\u001b[0m\u001b[1;33m]\u001b[0m\u001b[1;33m[\u001b[0m\u001b[1;36m0\u001b[0m\u001b[1;33m:\u001b[0m\u001b[1;36m2\u001b[0m\u001b[1;33m]\u001b[0m\u001b[1;33m)\u001b[0m\u001b[1;33m\u001b[0m\u001b[1;33m\u001b[0m\u001b[0m\n\u001b[0m",
      "\u001b[1;32m<ipython-input-167-29c1c7eb681b>\u001b[0m in \u001b[0;36mconvert_grados\u001b[1;34m(valor, med_entrada, med_salida)\u001b[0m\n\u001b[0;32m     14\u001b[0m         \u001b[0mgrados\u001b[0m\u001b[1;33m=\u001b[0m\u001b[0mconvert_grados\u001b[0m\u001b[1;33m(\u001b[0m\u001b[0mvalor\u001b[0m\u001b[1;33m,\u001b[0m\u001b[1;34m'Fa'\u001b[0m\u001b[1;33m,\u001b[0m\u001b[1;34m'Ce'\u001b[0m\u001b[1;33m)\u001b[0m\u001b[1;33m\u001b[0m\u001b[1;33m\u001b[0m\u001b[0m\n\u001b[0;32m     15\u001b[0m         \u001b[0msalida\u001b[0m\u001b[1;33m=\u001b[0m\u001b[0mconvert_grados\u001b[0m\u001b[1;33m(\u001b[0m\u001b[0mgrados\u001b[0m\u001b[1;33m,\u001b[0m\u001b[1;34m'Ce'\u001b[0m\u001b[1;33m,\u001b[0m\u001b[1;34m'Ke'\u001b[0m\u001b[1;33m)\u001b[0m\u001b[1;33m\u001b[0m\u001b[1;33m\u001b[0m\u001b[0m\n\u001b[1;32m---> 16\u001b[1;33m     \u001b[1;32mreturn\u001b[0m\u001b[1;33m(\u001b[0m\u001b[0msalida\u001b[0m\u001b[1;33m)\u001b[0m\u001b[1;33m\u001b[0m\u001b[1;33m\u001b[0m\u001b[0m\n\u001b[0m\u001b[0;32m     17\u001b[0m \u001b[1;33m\u001b[0m\u001b[0m\n\u001b[0;32m     18\u001b[0m \u001b[0mconvert_grados\u001b[0m\u001b[1;33m(\u001b[0m\u001b[1;36m30\u001b[0m\u001b[1;33m,\u001b[0m\u001b[1;34m'Fa'\u001b[0m\u001b[1;33m,\u001b[0m\u001b[1;34m'Ke'\u001b[0m\u001b[1;33m)\u001b[0m\u001b[1;33m\u001b[0m\u001b[1;33m\u001b[0m\u001b[0m\n",
      "\u001b[1;31mUnboundLocalError\u001b[0m: local variable 'salida' referenced before assignment"
     ]
    }
   ],
   "source": [
    "metricas = ['Celcius','Kelvin','Farenheit']\n",
    "convert_grados(1, metricas[0][0:2], metricas[0][0:2])"
   ]
  }
 ],
 "metadata": {
  "interpreter": {
   "hash": "11ffc019a02cc0e21e59860b66c88ea81995ce9237607e8ab2c087a287ee4867"
  },
  "kernelspec": {
   "display_name": "Python 3.8.3 ('base')",
   "language": "python",
   "name": "python3"
  },
  "language_info": {
   "codemirror_mode": {
    "name": "ipython",
    "version": 3
   },
   "file_extension": ".py",
   "mimetype": "text/x-python",
   "name": "python",
   "nbconvert_exporter": "python",
   "pygments_lexer": "ipython3",
   "version": "3.8.3"
  },
  "orig_nbformat": 4
 },
 "nbformat": 4,
 "nbformat_minor": 2
}
