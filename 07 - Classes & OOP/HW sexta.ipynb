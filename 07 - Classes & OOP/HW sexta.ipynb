{
 "cells": [
  {
   "cell_type": "markdown",
   "metadata": {},
   "source": [
    "1) Crear la clase vehículo que contenga los atributos:<br>\n",
    "Color<br>\n",
    "Si es moto, auto, camioneta ó camión<br>\n",
    "Cilindrada del motor"
   ]
  },
  {
   "cell_type": "code",
   "execution_count": 8,
   "metadata": {},
   "outputs": [
    {
     "data": {
      "text/plain": [
       "'rojo'"
      ]
     },
     "execution_count": 8,
     "metadata": {},
     "output_type": "execute_result"
    }
   ],
   "source": [
    "#creo clase\n",
    "class Vehiculo:\n",
    "    def __init__(self, color, tipo, cilindrada):\n",
    "        self.color= color\n",
    "        self.tipo= tipo\n",
    "        self.cilindrada=cilindrada\n",
    "\n",
    "#instancio objeto\n",
    "miVehiculo=Vehiculo('rojo', 'auto', 3.5)\n",
    "\n",
    "miVehiculo.color #me dice atributo\n"
   ]
  },
  {
   "cell_type": "markdown",
   "metadata": {},
   "source": [
    "2) A la clase Vehiculo creada en el punto 1, agregar los siguientes métodos:<br>\n",
    "Acelerar<br>\n",
    "Frenar<br>\n",
    "Doblar<br>\n"
   ]
  },
  {
   "cell_type": "code",
   "execution_count": 10,
   "metadata": {},
   "outputs": [
    {
     "data": {
      "text/plain": [
       "50"
      ]
     },
     "execution_count": 10,
     "metadata": {},
     "output_type": "execute_result"
    }
   ],
   "source": [
    "#creo clase\n",
    "class Vehiculo:\n",
    "    #atributos\n",
    "    def __init__(self, color, tipo, cilindrada):\n",
    "        self.color= color\n",
    "        self.tipo= tipo\n",
    "        self.cilindrada=cilindrada\n",
    "        self.velocidad=0\n",
    "        self.direccion=0\n",
    "    #Métodos\n",
    "    def Acelerar(self,vel):\n",
    "        self.velocidad+=vel\n",
    "    def Frenar(self,vel):\n",
    "        self.velocidad-=vel\n",
    "    def Doblar(self, grados):\n",
    "        self.direccion+=grados\n",
    "#instancio objetos\n",
    "\n",
    "Miauto=Vehiculo('rojo', 'auto', 3.5)\n",
    "Miauto.Acelerar(50)\n",
    "\n",
    "Miauto.velocidad\n"
   ]
  },
  {
   "cell_type": "markdown",
   "metadata": {},
   "source": [
    "3) Instanciar 3 objetos de la clase vehículo y ejecutar sus métodos, probar luego el resultado"
   ]
  },
  {
   "cell_type": "code",
   "execution_count": 14,
   "metadata": {},
   "outputs": [
    {
     "data": {
      "text/plain": [
       "30"
      ]
     },
     "execution_count": 14,
     "metadata": {},
     "output_type": "execute_result"
    }
   ],
   "source": [
    "#instancio objetos\n",
    "Miauto=Vehiculo('rojo', 'auto', 3.5)\n",
    "Mimoto=Vehiculo('negra','moto',2)\n",
    "MiCamion=Vehiculo('blanco', 'camion',5.3)\n",
    "\n",
    "#Ejecuto métodos\n",
    "Miauto.Acelerar(50)\n",
    "Miauto.Frenar(20)\n",
    "Mimoto.Doblar(5)\n",
    "\n",
    "#pregunto \n",
    "Miauto.velocidad\n",
    "Mimoto.direccion"
   ]
  },
  {
   "cell_type": "markdown",
   "metadata": {},
   "source": [
    "4) Agregar a la clase Vehiculo, un método que muestre su estado, es decir, a que velocidad se encuentra y su dirección. Y otro método que muestre color, tipo y cilindrada"
   ]
  },
  {
   "cell_type": "code",
   "execution_count": 16,
   "metadata": {},
   "outputs": [
    {
     "name": "stdout",
     "output_type": "stream",
     "text": [
      "Es un auto de color rojo con una cilidradra de 3.5\n",
      "Velocidad: 30 \n",
      "Dirección: 0\n"
     ]
    }
   ],
   "source": [
    "#creo clase\n",
    "class Vehiculo:\n",
    "    #atributos\n",
    "    def __init__(self, color, tipo, cilindrada):\n",
    "        self.color= color\n",
    "        self.tipo= tipo\n",
    "        self.cilindrada=cilindrada\n",
    "        self.velocidad=0\n",
    "        self.direccion=0\n",
    "    #Métodos\n",
    "    def Acelerar(self,vel):\n",
    "        self.velocidad+=vel\n",
    "    def Frenar(self,vel):\n",
    "        self.velocidad-=vel\n",
    "    def Doblar(self, grados):\n",
    "        self.direccion+=grados\n",
    "    #estado\n",
    "    def atributos(self):\n",
    "        print(f'Es un {self.tipo} de color {self.color} con una cilidradra de {self.cilindrada}')\n",
    "    def estado(self):\n",
    "        print(f'Velocidad: {self.velocidad} \\nDirección: {self.direccion}')\n",
    "\n",
    "#Instancio objeto\n",
    "Miauto=Vehiculo('rojo', 'auto', 3.5)\n",
    "\n",
    "#Ejecuto métodos\n",
    "Miauto.Acelerar(50)\n",
    "Miauto.Frenar(20)  \n",
    "\n",
    "Miauto.atributos()\n",
    "Miauto.estado()\n"
   ]
  },
  {
   "cell_type": "markdown",
   "metadata": {},
   "source": [
    "5) Crear una clase que permita utilizar las funciones creadas en la práctica del módulo 6<br>\n",
    "Verificar Primo<br>\n",
    "Valor modal<br>\n",
    "Conversión grados<br>\n",
    "Factorial<br>"
   ]
  },
  {
   "cell_type": "code",
   "execution_count": 31,
   "metadata": {},
   "outputs": [
    {
     "data": {
      "text/plain": [
       "278.15"
      ]
     },
     "execution_count": 31,
     "metadata": {},
     "output_type": "execute_result"
    }
   ],
   "source": [
    "class Herramientas:\n",
    "    def __init__(self)->None:\n",
    "        pass\n",
    "    def verifica_primo(self,numero):\n",
    "        status=False\n",
    "        if numero==0 or numero==1:\n",
    "            status=False\n",
    "        if numero==2:\n",
    "            status=True    \n",
    "        else:\n",
    "            for divisor in range(2,numero):\n",
    "                if numero%divisor==0:\n",
    "                    status=False\n",
    "                    break                \n",
    "                status=True\n",
    "        return(status)\n",
    "\n",
    "    def num_repetidos (self,lista,minomax):\n",
    "        lista_sinrepetir=[]\n",
    "        for n in lista:\n",
    "            if n not in lista_sinrepetir:\n",
    "                lista_sinrepetir.append(n)\n",
    "        if minomax=='min':\n",
    "            lista_sinrepetir.sort()\n",
    "        elif minomax=='max':\n",
    "            lista_sinrepetir.reverse()\n",
    "        repeticiones=[]\n",
    "        for num in lista_sinrepetir:\n",
    "            i=0\n",
    "            contador=0\n",
    "            while i< len(lista):\n",
    "                if num==lista[i]:\n",
    "                    contador+=1\n",
    "                i+=1\n",
    "            repeticiones.append([num,contador])\n",
    "        num,rep=max(repeticiones, key=lambda item:item[1])        \n",
    "        return(num)\n",
    "\n",
    "    def convert_grados (self,valor, med_entrada, med_salida):\n",
    "        if (med_entrada==med_salida):\n",
    "            salida=valor\n",
    "        elif (med_entrada=='Celcius' and med_salida=='Farenheit'):\n",
    "            salida=valor*9/5 + 32\n",
    "        elif (med_entrada=='Celcius' and med_salida=='Kelvin'):\n",
    "            salida=valor+273.15\n",
    "        elif (med_entrada=='Farenheit' and med_salida==\"Celcius\"):\n",
    "            salida=(valor-32)*5/9\n",
    "        elif (med_entrada=='Kelvin' and med_salida=='Celcius'):\n",
    "            salida= valor-273.15\n",
    "        elif (med_entrada=='Kelvin' and med_salida=='Farenheit'):\n",
    "            grados=convert_grados(valor,'Kelvin','Celcius')\n",
    "            salida=convert_grados(grados,'Celcius','Farenheit')\n",
    "        elif (med_entrada=='Farenheit' and med_salida=='Kelvin'):\n",
    "            grados=convert_grados(valor,'Farenheit','Celcius')\n",
    "            salida=convert_grados(grados,'Celcius','Kelvin')\n",
    "        return(salida)\n",
    "        \n",
    "    def factorial(self,num):\n",
    "        if (num<0 or type(num)==float):\n",
    "            salida='Número no entero o negativo'\n",
    "        elif num==0:\n",
    "            salida=1\n",
    "        else:\n",
    "            factor=1\n",
    "            for i in range(2,num+1):\n",
    "                factor*=i\n",
    "            salida=factor\n",
    "        return(salida)\n",
    "\n"
   ]
  },
  {
   "cell_type": "markdown",
   "metadata": {},
   "source": [
    "6) Probar las funciones incorporadas en la clase del punto 5"
   ]
  },
  {
   "cell_type": "code",
   "execution_count": null,
   "metadata": {},
   "outputs": [
    {
     "data": {
      "text/plain": [
       "24"
      ]
     },
     "execution_count": 43,
     "metadata": {},
     "output_type": "execute_result"
    }
   ],
   "source": [
    "h =Herramientas()\n",
    "lista=[1,2,3,3,4,5,5,5,5,3,3]\n",
    "h.verifica_primo(25)\n",
    "h.factorial(4)\n",
    "h.num_repetidos(lista,min)\n",
    "h.convert_grados(5,'Celcius','Kelvin')"
   ]
  },
  {
   "cell_type": "markdown",
   "metadata": {},
   "source": [
    "7) Es necesario que la clase creada en el punto 5 contenga una lista, sobre la cual se aplquen las funciones incorporadas"
   ]
  },
  {
   "cell_type": "code",
   "execution_count": null,
   "metadata": {},
   "outputs": [],
   "source": [
    "class Herramientas:\n",
    "    def __init__(self, lista):\n",
    "        self.lista= lista\n",
    "\n",
    "    def verifica_primo(self):\n",
    "        lista_clasificacion=[]\n",
    "        for i in self.lista:\n",
    "            if self.__verifica_primo(i):\n",
    "                lista_clasificacion.append((i,'Primo'))\n",
    "            else:\n",
    "                lista_clasificacion.append((i,'No primo'))\n",
    "        return lista_clasificacion         \n",
    "\n",
    "    def __verifica_primo(self,numero):\n",
    "        status=False\n",
    "        if numero==0 or numero==1:\n",
    "            status=False\n",
    "        if numero==2:\n",
    "            status=True    \n",
    "        else:\n",
    "            for divisor in range(2,numero):\n",
    "                if numero%divisor==0:\n",
    "                    status=False\n",
    "                    break                \n",
    "                status=True\n",
    "        return(status)\n",
    "\n",
    "    def valor_modal (self,minomax):\n",
    "        lista_sinrepetir=[]\n",
    "        for n in self.lista:\n",
    "            if n not in lista_sinrepetir:\n",
    "                lista_sinrepetir.append(n)\n",
    "        if minomax=='min':\n",
    "            lista_sinrepetir.sort()\n",
    "        elif minomax=='max':\n",
    "            lista_sinrepetir.reverse()\n",
    "        repeticiones=[]\n",
    "        for num in lista_sinrepetir:\n",
    "            i=0\n",
    "            contador=0\n",
    "            while i< len(self.lista):\n",
    "                if num==self.lista[i]:\n",
    "                    contador+=1\n",
    "                i+=1\n",
    "            repeticiones.append([num,contador])\n",
    "        num,rep=max(repeticiones, key=lambda item:item[1])        \n",
    "        return(num)\n",
    "\n",
    "    def convert_grados(self, med_entrada, med_salida):\n",
    "        for i in self.lista:\n",
    "            resultado= self.__convert_grados(i, med_entrada,med_salida)\n",
    "            print(i, 'grados ', med_entrada, 'son ', resultado, 'grados ', med_salida)\n",
    "\n",
    "    def __convert_grados(self,valor, med_entrada, med_salida):\n",
    "        if (med_entrada==med_salida):\n",
    "            salida=valor\n",
    "        elif (med_entrada=='Celsius' and med_salida=='Farenheit'):\n",
    "            salida=valor*9/5 + 32\n",
    "        elif (med_entrada=='Celsius' and med_salida=='Kelvin'):\n",
    "            salida=valor+273.15\n",
    "        elif (med_entrada=='Farenheit' and med_salida==\"Celsius\"):\n",
    "            salida=(valor-32)*5/9\n",
    "        elif (med_entrada=='Kelvin' and med_salida=='Celsius'):\n",
    "            salida= valor-273.15\n",
    "        elif (med_entrada=='Kelvin' and med_salida=='Farenheit'):\n",
    "            grados=self.__convert_grados(valor,'Kelvin','Celsius')\n",
    "            salida=self.__convert_grados(grados,'Celsius','Farenheit')\n",
    "        elif (med_entrada=='Farenheit' and med_salida=='Kelvin'):\n",
    "            grados=self.__convert_grados(valor,'Farenheit','Celsius')\n",
    "            salida=self.__convert_grados(grados,'Celsius','Kelvin')\n",
    "        return(salida)\n",
    "\n",
    "    def factorial(self):\n",
    "        lista_factorial=[]\n",
    "        for i in self.lista:\n",
    "            resultado=self.__factorial(i)\n",
    "            lista_factorial.append((i,resultado ))\n",
    "        return(lista_factorial)\n",
    "            \n",
    "    def __factorial(self,num):\n",
    "        if (num<0 or type(num)==float):\n",
    "            salida='Número no entero o negativo'\n",
    "        elif num==0:\n",
    "            salida=1\n",
    "        else:\n",
    "            factor=1\n",
    "            for i in range(2,num+1):\n",
    "                factor*=i\n",
    "            salida=factor\n",
    "        return(salida)\n"
   ]
  },
  {
   "cell_type": "code",
   "execution_count": 14,
   "metadata": {},
   "outputs": [
    {
     "data": {
      "text/plain": [
       "2"
      ]
     },
     "execution_count": 14,
     "metadata": {},
     "output_type": "execute_result"
    }
   ],
   "source": [
    "lista=[1,2,3,2,1,4,5,7,7,2,7,8,3]\n",
    "h=Herramientas(lista)  \n",
    "h.verifica_primo()  \n",
    "h.valor_modal('min')\n",
    "h.convert_grados('Celsius','Kelvin')\n",
    "h.factorial()"
   ]
  },
  {
   "cell_type": "markdown",
   "metadata": {},
   "source": [
    "8) Crear un archivo .py aparte y ubicar allí la clase generada en el punto anterior. Luego realizar la importación del módulo y probar alguna de sus funciones"
   ]
  },
  {
   "cell_type": "code",
   "execution_count": 5,
   "metadata": {},
   "outputs": [
    {
     "data": {
      "text/plain": [
       "2"
      ]
     },
     "execution_count": 5,
     "metadata": {},
     "output_type": "execute_result"
    }
   ],
   "source": [
    "import Herramientasprobando as calc\n",
    "\n",
    "lista=[1,2,3,2,1,4,5,7,7,2,7,8,3]\n",
    "\n",
    "h=calc.Herramientas(lista) #llamo al objeto y lo instancio\n",
    "\n",
    "h.verifica_primo()  \n",
    "h.valor_modal('min')\n",
    "h.convert_grados('Celsius','Kelvin')\n",
    "h.factorial()"
   ]
  }
 ],
 "metadata": {
  "interpreter": {
   "hash": "11ffc019a02cc0e21e59860b66c88ea81995ce9237607e8ab2c087a287ee4867"
  },
  "kernelspec": {
   "display_name": "Python 3.8.3 ('base')",
   "language": "python",
   "name": "python3"
  },
  "language_info": {
   "codemirror_mode": {
    "name": "ipython",
    "version": 3
   },
   "file_extension": ".py",
   "mimetype": "text/x-python",
   "name": "python",
   "nbconvert_exporter": "python",
   "pygments_lexer": "ipython3",
   "version": "3.8.3"
  },
  "orig_nbformat": 4
 },
 "nbformat": 4,
 "nbformat_minor": 2
}
