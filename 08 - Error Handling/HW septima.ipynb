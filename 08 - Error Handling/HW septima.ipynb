{
 "cells": [
  {
   "cell_type": "markdown",
   "metadata": {},
   "source": [
    "1) Con la clase creada en el módulo 7, tener en cuenta diferentes casos en que el código pudiera arrojar error. Por ejemplo, en la creación del objeto recibimos una lista de números enteros pero ¿qué pasa si se envía otro tipo de dato?"
   ]
  },
  {
   "cell_type": "code",
   "execution_count": 67,
   "metadata": {},
   "outputs": [
    {
     "ename": "TypeError",
     "evalue": "Elemento ingresado no es una lista",
     "output_type": "error",
     "traceback": [
      "\u001b[1;31m---------------------------------------------------------------------------\u001b[0m",
      "\u001b[1;31mTypeError\u001b[0m                                 Traceback (most recent call last)",
      "\u001b[1;32m<ipython-input-67-06cb67229c60>\u001b[0m in \u001b[0;36m<module>\u001b[1;34m\u001b[0m\n\u001b[0;32m      3\u001b[0m \u001b[1;32mimport\u001b[0m \u001b[0mHerramientasprobando\u001b[0m \u001b[1;32mas\u001b[0m \u001b[0mcalculos\u001b[0m\u001b[1;33m\u001b[0m\u001b[1;33m\u001b[0m\u001b[0m\n\u001b[0;32m      4\u001b[0m \u001b[1;33m\u001b[0m\u001b[0m\n\u001b[1;32m----> 5\u001b[1;33m \u001b[0mh\u001b[0m\u001b[1;33m=\u001b[0m\u001b[0mcalculos\u001b[0m\u001b[1;33m.\u001b[0m\u001b[0mHerramientas\u001b[0m\u001b[1;33m(\u001b[0m\u001b[1;34m'hola'\u001b[0m\u001b[1;33m)\u001b[0m\u001b[1;33m\u001b[0m\u001b[1;33m\u001b[0m\u001b[0m\n\u001b[0m\u001b[0;32m      6\u001b[0m \u001b[1;33m\u001b[0m\u001b[0m\n\u001b[0;32m      7\u001b[0m \u001b[0mh\u001b[0m\u001b[1;33m.\u001b[0m\u001b[0mfactorial\u001b[0m\u001b[1;33m(\u001b[0m\u001b[1;33m)\u001b[0m\u001b[1;33m\u001b[0m\u001b[1;33m\u001b[0m\u001b[0m\n",
      "\u001b[1;32mD:/Documents/Henry/Python-Prep/07 - Classes & OOP\\Herramientasprobando.py\u001b[0m in \u001b[0;36m__init__\u001b[1;34m(self, lista)\u001b[0m\n\u001b[0;32m      2\u001b[0m     \u001b[1;32mdef\u001b[0m \u001b[0m__init__\u001b[0m\u001b[1;33m(\u001b[0m\u001b[0mself\u001b[0m\u001b[1;33m,\u001b[0m \u001b[0mlista\u001b[0m\u001b[1;33m)\u001b[0m\u001b[1;33m:\u001b[0m\u001b[1;33m\u001b[0m\u001b[1;33m\u001b[0m\u001b[0m\n\u001b[0;32m      3\u001b[0m         \u001b[1;32mif\u001b[0m \u001b[0mtype\u001b[0m\u001b[1;33m(\u001b[0m\u001b[0mlista\u001b[0m\u001b[1;33m)\u001b[0m\u001b[1;33m!=\u001b[0m\u001b[0mlist\u001b[0m\u001b[1;33m:\u001b[0m\u001b[1;33m\u001b[0m\u001b[1;33m\u001b[0m\u001b[0m\n\u001b[1;32m----> 4\u001b[1;33m             \u001b[1;32mraise\u001b[0m \u001b[0mTypeError\u001b[0m\u001b[1;33m(\u001b[0m\u001b[1;34m'Elemento ingresado no es una lista'\u001b[0m\u001b[1;33m)\u001b[0m\u001b[1;33m\u001b[0m\u001b[1;33m\u001b[0m\u001b[0m\n\u001b[0m\u001b[0;32m      5\u001b[0m         \u001b[1;32melse\u001b[0m\u001b[1;33m:\u001b[0m\u001b[1;33m\u001b[0m\u001b[1;33m\u001b[0m\u001b[0m\n\u001b[0;32m      6\u001b[0m             \u001b[1;32mfor\u001b[0m \u001b[0mi\u001b[0m \u001b[1;32min\u001b[0m \u001b[0mlista\u001b[0m\u001b[1;33m:\u001b[0m\u001b[1;33m\u001b[0m\u001b[1;33m\u001b[0m\u001b[0m\n",
      "\u001b[1;31mTypeError\u001b[0m: Elemento ingresado no es una lista"
     ]
    }
   ],
   "source": [
    "import sys\n",
    "sys.path.append(r'D:/Documents/Henry/Python-Prep/07 - Classes & OOP')\n",
    "import Herramientasprobando as calculos\n",
    "\n",
    "h=calculos.Herramientas('hola')\n",
    "\n",
    "h.factorial()\n",
    "\n",
    "\n"
   ]
  },
  {
   "cell_type": "markdown",
   "metadata": {},
   "source": [
    "2) En la función que hace la conversión de grados, validar que los parámetros enviados sean los esperados, de no serlo, informar cuáles son los valores esperados."
   ]
  },
  {
   "cell_type": "code",
   "execution_count": null,
   "metadata": {},
   "outputs": [],
   "source": [
    "import importlib\n",
    "importlib.reload(calculos)\n",
    "\n",
    "lista=[1,2,3,3,3,2,4,5,2,7,8,7]\n",
    "h=calculos.Herramientas(lista)\n",
    "\n",
    "h.convert_grados('cElsiIs','Kelvin')"
   ]
  },
  {
   "cell_type": "code",
   "execution_count": 103,
   "metadata": {},
   "outputs": [
    {
     "ename": "TypeError",
     "evalue": "Elemento ingresado no es una lista",
     "output_type": "error",
     "traceback": [
      "\u001b[1;31m---------------------------------------------------------------------------\u001b[0m",
      "\u001b[1;31mTypeError\u001b[0m                                 Traceback (most recent call last)",
      "\u001b[1;32m<ipython-input-103-b0b9f4b20cdf>\u001b[0m in \u001b[0;36m<module>\u001b[1;34m\u001b[0m\n\u001b[0;32m      2\u001b[0m \u001b[0mimportlib\u001b[0m\u001b[1;33m.\u001b[0m\u001b[0mreload\u001b[0m\u001b[1;33m(\u001b[0m\u001b[0mcalculos\u001b[0m\u001b[1;33m)\u001b[0m\u001b[1;33m\u001b[0m\u001b[1;33m\u001b[0m\u001b[0m\n\u001b[0;32m      3\u001b[0m \u001b[1;33m\u001b[0m\u001b[0m\n\u001b[1;32m----> 4\u001b[1;33m \u001b[0mh\u001b[0m\u001b[1;33m=\u001b[0m\u001b[0mcalculos\u001b[0m\u001b[1;33m.\u001b[0m\u001b[0mHerramientas\u001b[0m\u001b[1;33m(\u001b[0m\u001b[1;34m'hola'\u001b[0m\u001b[1;33m)\u001b[0m\u001b[1;33m\u001b[0m\u001b[1;33m\u001b[0m\u001b[0m\n\u001b[0m\u001b[0;32m      5\u001b[0m \u001b[0mlista\u001b[0m\u001b[1;33m=\u001b[0m\u001b[1;33m[\u001b[0m\u001b[1;36m1\u001b[0m\u001b[1;33m,\u001b[0m\u001b[1;36m2\u001b[0m\u001b[1;33m,\u001b[0m\u001b[1;34m'hola'\u001b[0m\u001b[1;33m]\u001b[0m\u001b[1;33m\u001b[0m\u001b[1;33m\u001b[0m\u001b[0m\n\u001b[0;32m      6\u001b[0m \u001b[1;33m\u001b[0m\u001b[0m\n",
      "\u001b[1;32mD:/Documents/Henry/Python-Prep/07 - Classes & OOP\\Herramientasprobando.py\u001b[0m in \u001b[0;36m__init__\u001b[1;34m(self, lista)\u001b[0m\n\u001b[0;32m      5\u001b[0m     \u001b[1;32mdef\u001b[0m \u001b[0m__init__\u001b[0m\u001b[1;33m(\u001b[0m\u001b[0mself\u001b[0m\u001b[1;33m,\u001b[0m \u001b[0mlista\u001b[0m\u001b[1;33m)\u001b[0m\u001b[1;33m:\u001b[0m\u001b[1;33m\u001b[0m\u001b[1;33m\u001b[0m\u001b[0m\n\u001b[0;32m      6\u001b[0m         \u001b[1;32mif\u001b[0m \u001b[0mtype\u001b[0m\u001b[1;33m(\u001b[0m\u001b[0mlista\u001b[0m\u001b[1;33m)\u001b[0m\u001b[1;33m!=\u001b[0m\u001b[0mlist\u001b[0m\u001b[1;33m:\u001b[0m\u001b[1;33m\u001b[0m\u001b[1;33m\u001b[0m\u001b[0m\n\u001b[1;32m----> 7\u001b[1;33m             \u001b[1;32mraise\u001b[0m \u001b[0mTypeError\u001b[0m\u001b[1;33m(\u001b[0m\u001b[1;34m'Elemento ingresado no es una lista'\u001b[0m\u001b[1;33m)\u001b[0m\u001b[1;33m\u001b[0m\u001b[1;33m\u001b[0m\u001b[0m\n\u001b[0m\u001b[0;32m      8\u001b[0m         \u001b[1;32melse\u001b[0m\u001b[1;33m:\u001b[0m\u001b[1;33m\u001b[0m\u001b[1;33m\u001b[0m\u001b[0m\n\u001b[0;32m      9\u001b[0m             \u001b[1;32mfor\u001b[0m \u001b[0mi\u001b[0m \u001b[1;32min\u001b[0m \u001b[0mlista\u001b[0m\u001b[1;33m:\u001b[0m\u001b[1;33m\u001b[0m\u001b[1;33m\u001b[0m\u001b[0m\n",
      "\u001b[1;31mTypeError\u001b[0m: Elemento ingresado no es una lista"
     ]
    }
   ],
   "source": [
    "import importlib\n",
    "importlib.reload(calculos)\n",
    "\n",
    "h=calculos.Herramientas('hola')\n",
    "lista=[1,2,'hola']\n",
    "\n",
    "h=calculos.Herramientas(lista)\n",
    "\n",
    "h=calculos.Herramientas([1,2,3,4])\n",
    "h.factorial()\n"
   ]
  },
  {
   "cell_type": "markdown",
   "metadata": {},
   "source": [
    "3) Importar el modulo \"unittest\" y crear los siguientes casos de pruebas sobre la clase utilizada en el punto 2<br>\n",
    "Creacion del objeto incorrecta<br>\n",
    "Creacion correcta del objeto<br>\n",
    "Metodo valor_modal()<br>\n",
    "\n",
    "Se puede usar \"raise ValueError()\" en la creación de la clase para verificar el error. Investigar sobre esta funcionalidad."
   ]
  },
  {
   "cell_type": "code",
   "execution_count": 84,
   "metadata": {},
   "outputs": [
    {
     "name": "stderr",
     "output_type": "stream",
     "text": [
      "test_creacion_correcta (__main__.CajaNegraTest) ... ok\n",
      "test_creacion_objeto_incorrecto (__main__.CajaNegraTest) ... ok\n",
      "test_valor_modal (__main__.CajaNegraTest) ... ok\n",
      "\n",
      "----------------------------------------------------------------------\n",
      "Ran 3 tests in 0.007s\n",
      "\n",
      "OK\n"
     ]
    },
    {
     "data": {
      "text/plain": [
       "<unittest.main.TestProgram at 0xaea9db5220>"
      ]
     },
     "execution_count": 84,
     "metadata": {},
     "output_type": "execute_result"
    }
   ],
   "source": [
    "import unittest\n",
    "\n",
    "class CajaNegraTest(unittest.TestCase):\n",
    "    def test_creacion_objeto_incorrecto(self):\n",
    "        param = 'hola'\n",
    "        self.assertRaises(TypeError, calculos.Herramientas,param,)\n",
    "    def test_creacion_correcta(self):\n",
    "        param = [1,2,2,5]\n",
    "        h1 = calculos.Herramientas(param)\n",
    "        self.assertEqual(h1.lista, param)\n",
    "    def test_valor_modal(self):\n",
    "        param=[1,2,1,3]\n",
    "        resultado=1\n",
    "        h=calculos.Herramientas(param)\n",
    "        prueba=h.valor_modal(param)\n",
    "        self.assertEqual(resultado,prueba)\n",
    "\n",
    "unittest.main(argv=[''], verbosity=2, exit=False)\n",
    "    \n"
   ]
  },
  {
   "cell_type": "markdown",
   "metadata": {},
   "source": [
    "4) Probar una creación incorrecta y visualizar la salida del \"raise\""
   ]
  },
  {
   "cell_type": "code",
   "execution_count": 85,
   "metadata": {},
   "outputs": [
    {
     "ename": "TypeError",
     "evalue": "Elemento ingresado no es una lista",
     "output_type": "error",
     "traceback": [
      "\u001b[1;31m---------------------------------------------------------------------------\u001b[0m",
      "\u001b[1;31mTypeError\u001b[0m                                 Traceback (most recent call last)",
      "\u001b[1;32m<ipython-input-85-9ad50b967b03>\u001b[0m in \u001b[0;36m<module>\u001b[1;34m\u001b[0m\n\u001b[1;32m----> 1\u001b[1;33m \u001b[0mh\u001b[0m\u001b[1;33m=\u001b[0m\u001b[0mcalculos\u001b[0m\u001b[1;33m.\u001b[0m\u001b[0mHerramientas\u001b[0m\u001b[1;33m(\u001b[0m\u001b[1;34m'hola'\u001b[0m\u001b[1;33m)\u001b[0m\u001b[1;33m\u001b[0m\u001b[1;33m\u001b[0m\u001b[0m\n\u001b[0m\u001b[0;32m      2\u001b[0m \u001b[0mlista\u001b[0m\u001b[1;33m=\u001b[0m\u001b[1;33m[\u001b[0m\u001b[1;36m1\u001b[0m\u001b[1;33m,\u001b[0m\u001b[1;36m2\u001b[0m\u001b[1;33m,\u001b[0m\u001b[1;34m'hola'\u001b[0m\u001b[1;33m]\u001b[0m\u001b[1;33m\u001b[0m\u001b[1;33m\u001b[0m\u001b[0m\n\u001b[0;32m      3\u001b[0m \u001b[1;33m\u001b[0m\u001b[0m\n\u001b[0;32m      4\u001b[0m \u001b[0mh\u001b[0m\u001b[1;33m=\u001b[0m\u001b[0mcalculos\u001b[0m\u001b[1;33m.\u001b[0m\u001b[0mHerramientas\u001b[0m\u001b[1;33m(\u001b[0m\u001b[0mlista\u001b[0m\u001b[1;33m)\u001b[0m\u001b[1;33m\u001b[0m\u001b[1;33m\u001b[0m\u001b[0m\n",
      "\u001b[1;32mD:/Documents/Henry/Python-Prep/07 - Classes & OOP\\Herramientasprobando.py\u001b[0m in \u001b[0;36m__init__\u001b[1;34m(self, lista)\u001b[0m\n\u001b[0;32m      2\u001b[0m \u001b[1;33m\u001b[0m\u001b[0m\n\u001b[0;32m      3\u001b[0m \u001b[1;33m\u001b[0m\u001b[0m\n\u001b[1;32m----> 4\u001b[1;33m \u001b[1;32mclass\u001b[0m \u001b[0mHerramientas\u001b[0m\u001b[1;33m:\u001b[0m\u001b[1;33m\u001b[0m\u001b[1;33m\u001b[0m\u001b[0m\n\u001b[0m\u001b[0;32m      5\u001b[0m     \u001b[1;32mdef\u001b[0m \u001b[0m__init__\u001b[0m\u001b[1;33m(\u001b[0m\u001b[0mself\u001b[0m\u001b[1;33m,\u001b[0m \u001b[0mlista\u001b[0m\u001b[1;33m)\u001b[0m\u001b[1;33m:\u001b[0m\u001b[1;33m\u001b[0m\u001b[1;33m\u001b[0m\u001b[0m\n\u001b[0;32m      6\u001b[0m         \u001b[1;32mif\u001b[0m \u001b[0mtype\u001b[0m\u001b[1;33m(\u001b[0m\u001b[0mlista\u001b[0m\u001b[1;33m)\u001b[0m\u001b[1;33m!=\u001b[0m\u001b[0mlist\u001b[0m\u001b[1;33m:\u001b[0m\u001b[1;33m\u001b[0m\u001b[1;33m\u001b[0m\u001b[0m\n",
      "\u001b[1;31mTypeError\u001b[0m: Elemento ingresado no es una lista"
     ]
    }
   ],
   "source": [
    "h=calculos.Herramientas('hola')\n",
    "lista=[1,2,'hola']\n",
    "\n",
    "h=calculos.Herramientas(lista)"
   ]
  },
  {
   "cell_type": "markdown",
   "metadata": {},
   "source": [
    "6) Agregar casos de pruebas para el método verifica_primos() realizando el cambio en la clase, para que devuelva una lista de True o False en función de que el elemento en la posisicón sea o no primo"
   ]
  },
  {
   "cell_type": "code",
   "execution_count": 108,
   "metadata": {},
   "outputs": [
    {
     "name": "stderr",
     "output_type": "stream",
     "text": [
      "test_creacion_correcta (__main__.CajaNegraTest) ... ok\n",
      "test_creacion_objeto_incorrecto (__main__.CajaNegraTest) ... ok\n",
      "test_valor_modal (__main__.CajaNegraTest) ... ok\n",
      "test_verifica_primos (__main__.CajaNegraTest) ... ok\n",
      "\n",
      "----------------------------------------------------------------------\n",
      "Ran 4 tests in 0.008s\n",
      "\n",
      "OK\n"
     ]
    },
    {
     "data": {
      "text/plain": [
       "<unittest.main.TestProgram at 0xaea9eee8b0>"
      ]
     },
     "execution_count": 108,
     "metadata": {},
     "output_type": "execute_result"
    }
   ],
   "source": [
    "class CajaNegraTest(unittest.TestCase):\n",
    "    def test_creacion_objeto_incorrecto(self):\n",
    "        param = 'hola'\n",
    "        self.assertRaises(TypeError, calculos.Herramientas,param,)\n",
    "    def test_creacion_correcta(self):\n",
    "        param = [1,2,2,5]\n",
    "        h1 = calculos.Herramientas(param)\n",
    "        self.assertEqual(h1.lista, param)\n",
    "    def test_valor_modal(self):\n",
    "        param=[1,2,1,3]\n",
    "        resultado=1\n",
    "        h=calculos.Herramientas(param)\n",
    "        prueba=h.valor_modal(param)\n",
    "        self.assertEqual(resultado,prueba)\n",
    "    def test_verifica_primos(self):\n",
    "        param=[1,2,3,4,5,6,7]\n",
    "        resultado=[False,True,True,False,True,False,True]\n",
    "        prueba= h.verifica_primo()\n",
    "        prueba1= [v for W, v in prueba] \n",
    "        self.assertEqual(resultado,prueba1)\n",
    "        \n",
    "\n",
    "unittest.main(argv=[''], verbosity=2, exit=False)"
   ]
  },
  {
   "cell_type": "markdown",
   "metadata": {},
   "source": [
    "7) Agregar casos de pruebas para el método conversion_grados()"
   ]
  },
  {
   "cell_type": "code",
   "execution_count": 109,
   "metadata": {},
   "outputs": [
    {
     "name": "stderr",
     "output_type": "stream",
     "text": [
      "test_convert_grados (__main__.CajaNegraTest) ... FAIL\n",
      "test_creacion_correcta (__main__.CajaNegraTest) ... ok\n",
      "test_creacion_objeto_incorrecto (__main__.CajaNegraTest) ... ok\n",
      "test_valor_modal (__main__.CajaNegraTest) ... ok\n",
      "test_verifica_primos (__main__.CajaNegraTest) ... "
     ]
    },
    {
     "name": "stdout",
     "output_type": "stream",
     "text": [
      "2 grados  celsius son  35.6 grados  farenheit\n",
      "3 grados  celsius son  37.4 grados  farenheit\n",
      "8 grados  celsius son  46.4 grados  farenheit\n",
      "10 grados  celsius son  50.0 grados  farenheit\n",
      "13 grados  celsius son  55.4 grados  farenheit\n"
     ]
    },
    {
     "name": "stderr",
     "output_type": "stream",
     "text": [
      "ok\n",
      "\n",
      "======================================================================\n",
      "FAIL: test_convert_grados (__main__.CajaNegraTest)\n",
      "----------------------------------------------------------------------\n",
      "Traceback (most recent call last):\n",
      "  File \"<ipython-input-109-7231d107029b>\", line 30, in test_convert_grados\n",
      "    self.assertEqual(grados, grados_esperado)\n",
      "AssertionError: None != [35.6, 37.4, 46.4, 50.0, 55.4]\n",
      "\n",
      "----------------------------------------------------------------------\n",
      "Ran 5 tests in 0.012s\n",
      "\n",
      "FAILED (failures=1)\n"
     ]
    },
    {
     "data": {
      "text/plain": [
       "<unittest.main.TestProgram at 0xaea9e11fd0>"
      ]
     },
     "execution_count": 109,
     "metadata": {},
     "output_type": "execute_result"
    }
   ],
   "source": [
    "import importlib\n",
    "importlib.reload(calculos)\n",
    "\n",
    "class CajaNegraTest(unittest.TestCase):\n",
    "    def test_creacion_objeto_incorrecto(self):\n",
    "        param = 'hola'\n",
    "        self.assertRaises(TypeError, calculos.Herramientas,param,)\n",
    "    def test_creacion_correcta(self):\n",
    "        param = [1,2,2,5]\n",
    "        h1 = calculos.Herramientas(param)\n",
    "        self.assertEqual(h1.lista, param)\n",
    "    def test_valor_modal(self):\n",
    "        param=[1,2,1,3]\n",
    "        resultado=1\n",
    "        h=calculos.Herramientas(param)\n",
    "        prueba=h.valor_modal(param)\n",
    "        self.assertEqual(resultado,prueba)\n",
    "    def test_verifica_primos(self):\n",
    "        param=[1,2,3,4,5,6,7]\n",
    "        h=calculos.Herramientas(param)\n",
    "        resultado=[False,True,True,False,True,False,True]\n",
    "        prueba= h.verifica_primo()\n",
    "        prueba1= [v for W, v in prueba] \n",
    "        self.assertEqual(resultado,prueba1)\n",
    "    def test_convert_grados(self):\n",
    "        lis = [2,3,8,10,13]\n",
    "        h1 = calculos.Herramientas(lis)\n",
    "        grados = h1.convert_grados('celsius','farenheit')\n",
    "        grados_esperado = [35.6, 37.4, 46.4, 50.0, 55.4]\n",
    "        self.assertEqual(grados, grados_esperado)\n",
    "\n",
    "unittest.main(argv=[''], verbosity=2, exit=False)\n"
   ]
  },
  {
   "cell_type": "markdown",
   "metadata": {},
   "source": [
    "8) Agregar casos de pruebas para el método factorial()"
   ]
  },
  {
   "cell_type": "code",
   "execution_count": 110,
   "metadata": {},
   "outputs": [
    {
     "name": "stderr",
     "output_type": "stream",
     "text": [
      "test_convert_grados (__main__.CajaNegraTest) ... FAIL\n",
      "test_creacion_correcta (__main__.CajaNegraTest) ... ok\n",
      "test_creacion_objeto_incorrecto (__main__.CajaNegraTest) ... ok\n",
      "test_valor_modal (__main__.CajaNegraTest) ... ok\n",
      "test_verifica_primos (__main__.CajaNegraTest) ... ok\n",
      "\n",
      "======================================================================\n",
      "FAIL: test_convert_grados (__main__.CajaNegraTest)\n",
      "----------------------------------------------------------------------\n",
      "Traceback (most recent call last):\n",
      "  File \"<ipython-input-110-b65cd6ce18ab>\", line 36, in test_convert_grados\n",
      "    self.assertEqual(factoriales,factoriales_esperados)\n",
      "AssertionError: Lists differ: [(2, 2), (3, 6), (8, 40320), (10, 3628800)] != [4, 6, 40320, 3628800]\n",
      "\n",
      "First differing element 0:\n",
      "(2, 2)\n",
      "4\n",
      "\n",
      "- [(2, 2), (3, 6), (8, 40320), (10, 3628800)]\n",
      "+ [4, 6, 40320, 3628800]\n",
      "\n",
      "----------------------------------------------------------------------\n",
      "Ran 5 tests in 0.010s\n",
      "\n",
      "FAILED (failures=1)\n"
     ]
    },
    {
     "data": {
      "text/plain": [
       "<unittest.main.TestProgram at 0xaea9f51c40>"
      ]
     },
     "execution_count": 110,
     "metadata": {},
     "output_type": "execute_result"
    }
   ],
   "source": [
    "import importlib\n",
    "importlib.reload(calculos)\n",
    "\n",
    "class CajaNegraTest(unittest.TestCase):\n",
    "    def test_creacion_objeto_incorrecto(self):\n",
    "        param = 'hola'\n",
    "        self.assertRaises(TypeError, calculos.Herramientas,param,)\n",
    "    def test_creacion_correcta(self):\n",
    "        param = [1,2,2,5]\n",
    "        h1 = calculos.Herramientas(param)\n",
    "        self.assertEqual(h1.lista, param)\n",
    "    def test_valor_modal(self):\n",
    "        param=[1,2,1,3]\n",
    "        resultado=1\n",
    "        h=calculos.Herramientas(param)\n",
    "        prueba=h.valor_modal(param)\n",
    "        self.assertEqual(resultado,prueba)\n",
    "    def test_verifica_primos(self):\n",
    "        param=[1,2,3,4,5,6,7]\n",
    "        h=calculos.Herramientas(param)\n",
    "        resultado=[False,True,True,False,True,False,True]\n",
    "        prueba= h.verifica_primo()\n",
    "        prueba1= [v for W, v in prueba] \n",
    "        self.assertEqual(resultado,prueba1)\n",
    "    def test_convert_grados(self):\n",
    "        lis = [2,3,8,10,13]\n",
    "        h1 = calculos.Herramientas(lis)\n",
    "        grados = h1.convert_grados('celsius','farenheit')\n",
    "        grados_esperado = [35.6, 37.4, 46.4, 50.0, 55.4]\n",
    "        self.assertEqual(grados, grados_esperado)\n",
    "    def test_convert_grados(self):\n",
    "        lis = [2,3,8,10]\n",
    "        h1 = calculos.Herramientas(lis)\n",
    "        factoriales=h1.factorial()\n",
    "        factoriales_esperados=[4,6,40320,3628800]\n",
    "        self.assertEqual(factoriales,factoriales_esperados)\n",
    "unittest.main(argv=[''], verbosity=2, exit=False)"
   ]
  }
 ],
 "metadata": {
  "interpreter": {
   "hash": "11ffc019a02cc0e21e59860b66c88ea81995ce9237607e8ab2c087a287ee4867"
  },
  "kernelspec": {
   "display_name": "Python 3.8.3 ('base')",
   "language": "python",
   "name": "python3"
  },
  "language_info": {
   "codemirror_mode": {
    "name": "ipython",
    "version": 3
   },
   "file_extension": ".py",
   "mimetype": "text/x-python",
   "name": "python",
   "nbconvert_exporter": "python",
   "pygments_lexer": "ipython3",
   "version": "3.8.3"
  },
  "orig_nbformat": 4
 },
 "nbformat": 4,
 "nbformat_minor": 2
}
